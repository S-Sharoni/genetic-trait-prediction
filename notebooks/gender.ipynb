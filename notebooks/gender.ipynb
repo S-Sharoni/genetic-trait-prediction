{
 "cells": [
  {
   "cell_type": "code",
   "execution_count": 1,
   "metadata": {},
   "outputs": [],
   "source": [
    "import pandas as pd\n",
    "import os\n",
    "import shutil\n",
    "import numpy as np\n",
    "from sklearn.feature_selection import mutual_info_classif, SelectKBest\n",
    "from sklearn.model_selection import train_test_split\n",
    "import matplotlib.pyplot as plt\n",
    "import seaborn as sns\n",
    "from sklearn.linear_model import LogisticRegression\n",
    "from sklearn.ensemble import RandomForestClassifier\n",
    "from sklearn.neural_network import MLPClassifier\n",
    "from sklearn.metrics import accuracy_score, classification_report, f1_score, confusion_matrix\n",
    "from sklearn.preprocessing import LabelEncoder\n",
    "import warnings\n",
    "warnings.filterwarnings(\"ignore\")"
   ]
  },
  {
   "cell_type": "code",
   "execution_count": 2,
   "metadata": {},
   "outputs": [
    {
     "name": "stdout",
     "output_type": "stream",
     "text": [
      "Sample size: 1022\n",
      "Columns: ['user_num', 'ID-number', 'biological_gender', 'rs757619452', 'rs569336697', 'rs11575897', 'rs2534636']\n",
      "Sample size after removing duplicates: 1021\n",
      "SNP columns: ['rs757619452', 'rs569336697', 'rs11575897', 'rs2534636']\n",
      "Standardized biological_gender values written to 'biological_gender_standardized'.\n",
      "Genotypes standardized.\n",
      "Unique values per SNP (showing up to 10):\n",
      "rs757619452: ['NN' 'GG']\n",
      "rs569336697: ['NN' 'TT' 'CC']\n",
      "rs11575897: ['GG' 'NN' 'AA']\n",
      "rs2534636: ['CC' 'NN' 'TT']\n",
      "Standardized dataset saved to: G:\\Other computers\\My Laptop\\Thesis_New\\blood_type\\gender_standardized.csv\n",
      "Cleaned dataset saved to: gender_cleaned.csv\n"
     ]
    }
   ],
   "source": [
    "# ====== Pre-process the data using DataProcessor ====== #\n",
    "from data_processor import DataProcessor\n",
    "\n",
    "# Initialize data processor\n",
    "data_processor = DataProcessor(\"gender_unprocessed.csv\", \"gender_snps.csv\")\n",
    "\n",
    "# Run full pipeline\n",
    "data_processor.load_data()\n",
    "data_processor.remove_duplicates()\n",
    "data_processor.define_snp_columns()\n",
    "data_processor.standardize_phenotype(trait_col='biological_gender', new_col='biological_gender_standardized')\n",
    "data_processor.standardize_genotypes()\n",
    "data_processor.save_cleaned()"
   ]
  },
  {
   "cell_type": "code",
   "execution_count": 3,
   "metadata": {},
   "outputs": [
    {
     "name": "stdout",
     "output_type": "stream",
     "text": [
      "Unique biological_gender_standardized: ['Male' 'Female' 'Man' 'Woman' 'Transgender ftm'\n",
      " 'Female but feel non-gendered' 'Male but genderfluid' 'Transgender mtf'\n",
      " 'Trans woman' 'Love it' 'Non-binary xx / genderqueer female-bodied'\n",
      " 'Transgender intersex'],\n"
     ]
    }
   ],
   "source": [
    "# ====== Standardization and Grouping ====== #\n",
    "# Import genotype processor\n",
    "from genotype_processor import GenotypeProcessor\n",
    "\n",
    "# Load cleaned data\n",
    "gender_cleaned = pd.read_csv('gender_cleaned.csv')\n",
    "snp_cols = [col for col in gender_cleaned.columns if col.startswith('rs') or col.startswith('i')]\n",
    "\n",
    "# Set up processor\n",
    "genotype_processor = GenotypeProcessor(gender_cleaned,\n",
    "                                       'biological_gender_standardized',\n",
    "                                       snp_cols=snp_cols)\n",
    "\n",
    "# Print unique populations based on \"biological_gender\" col.\n",
    "genotype_processor.print_unique_traits('biological_gender_standardized')"
   ]
  },
  {
   "cell_type": "code",
   "execution_count": 4,
   "metadata": {},
   "outputs": [
    {
     "name": "stdout",
     "output_type": "stream",
     "text": [
      "Number of rows before filtering: 1021\n",
      "Number of rows after filtering: 1007\n",
      "Unique Gender Standardized: ['Biological Male' 'Biological Female'],\n"
     ]
    }
   ],
   "source": [
    "# Remove rows with invalid gender reported\n",
    "print(f'Number of rows before filtering: {len(gender_cleaned)}')\n",
    "gender_cleaned = gender_cleaned[\n",
    "    (gender_cleaned['biological_gender_standardized'] != 'Trans woman') & (gender_cleaned['biological_gender_standardized'] != 'Love it')\n",
    "    & (gender_cleaned['biological_gender_standardized'] != 'Transgender intersex')]\n",
    "print(f'Number of rows after filtering: {len(gender_cleaned)}')\n",
    "\n",
    "# defines map for type standardization\n",
    "gender_mapping = {\n",
    "    'Biological Female': ['Female', 'Woman', 'Transgender ftm', 'Female but feel non-gendered', 'Non-binary xx / genderqueer female-bodied'],\n",
    "    'Biological Male': ['Male', 'Man', 'Transgender mtf', 'Male but genderfluid', 'Transgender mtf']\n",
    "    }\n",
    "\n",
    "# Standardize types\n",
    "gender_std = genotype_processor.standardize_traits(gender_mapping, 'biological_gender_standardized',\n",
    "                                                      'Gender Standardized', gender_cleaned)\n",
    "gender_std.to_csv('gender_std.csv', index=False)\n",
    "\n",
    "# Print unique types after standardization\n",
    "genotype_processor.print_unique_traits('Gender Standardized', gender_std)"
   ]
  },
  {
   "cell_type": "code",
   "execution_count": 5,
   "metadata": {},
   "outputs": [
    {
     "name": "stdout",
     "output_type": "stream",
     "text": [
      "Removed Samples:\n",
      "20\n"
     ]
    }
   ],
   "source": [
    "# Identify rows where biological_gender is \"Biological Male\" and all SNPs are \"NN\"\n",
    "snp_cols = [col for col in gender_std.columns if col.startswith('rs') or col.startswith('i')]\n",
    "\n",
    "male_missing_snps = gender_std[\n",
    "    (gender_std['Gender Standardized'] == 'Biological Male') &\n",
    "    (gender_std[snp_cols].apply(lambda row: all(val == 'NN' for val in row), axis=1))]\n",
    "\n",
    "# Remove these rows from the dataset\n",
    "gender_processed = gender_std.drop(male_missing_snps.index)\n",
    "\n",
    "# Output the removed rows for verification (optional)\n",
    "print(\"Removed Samples:\")\n",
    "print(len(male_missing_snps))\n",
    "\n",
    "# Save the filtered dataset (optional)\n",
    "gender_processed.to_csv('gender_processed.csv', index=False)"
   ]
  },
  {
   "cell_type": "code",
   "execution_count": 6,
   "metadata": {},
   "outputs": [
    {
     "name": "stdout",
     "output_type": "stream",
     "text": [
      "Class Distribution Gender Standardized\n",
      "Biological Male      517\n",
      "Biological Female    470\n",
      "Name: count, dtype: int64:\n"
     ]
    }
   ],
   "source": [
    "class_distribution = gender_processed['Gender Standardized'].value_counts()\n",
    "print(f\"Class Distribution {class_distribution}:\")"
   ]
  },
  {
   "cell_type": "code",
   "execution_count": 7,
   "metadata": {},
   "outputs": [
    {
     "name": "stdout",
     "output_type": "stream",
     "text": [
      "\n",
      "=== Gender Prediction Results ===\n",
      "                   precision    recall  f1-score   support\n",
      "\n",
      "Biological Female       1.00      0.98      0.99       470\n",
      "  Biological Male       0.98      1.00      0.99       517\n",
      "\n",
      "         accuracy                           0.99       987\n",
      "        macro avg       0.99      0.99      0.99       987\n",
      "     weighted avg       0.99      0.99      0.99       987\n",
      "\n",
      "Accuracy: 0.992\n",
      "Weighted F1 Score: 0.992\n",
      "Predictions saved to: results\\gender_gender_predictions.csv\n",
      "Report saved to: results\\gender_gender_classification_report.txt\n"
     ]
    },
    {
     "data": {
      "image/png": "[encoded data removed]",
      "text/plain": [
       "<Figure size 600x400 with 2 Axes>"
      ]
     },
     "metadata": {},
     "output_type": "display_data"
    }
   ],
   "source": [
    "# ====== Gender Prediction ====== #\n",
    "# Import trait classifier\n",
    "from trait_classifier import TraitClassifier\n",
    "\n",
    "# Load snps data\n",
    "gender_snps = pd.read_csv('gender_snps.csv')\n",
    "\n",
    "# Define X and y\n",
    "X = gender_processed.drop(columns=['Gender Standardized'])\n",
    "y = gender_processed['Gender Standardized']\n",
    "\n",
    "# Initialize classifier\n",
    "classifier = TraitClassifier(X, y, snp_cols)\n",
    "\n",
    "# Predict gender and plot confusion matrix\n",
    "classifier.gender_model(gender_processed, gender_snps,\n",
    "                        trait_col='Gender Standardized',\n",
    "                        new_col='predicted_gender',\n",
    "                        export_csv=True,\n",
    "                        folder='results',\n",
    "                        prefix='gender')"
   ]
  }
 ],
 "metadata": {
  "kernelspec": {
   "display_name": "dev",
   "language": "python",
   "name": "python3"
  },
  "language_info": {
   "codemirror_mode": {
    "name": "ipython",
    "version": 3
   },
   "file_extension": ".py",
   "mimetype": "text/x-python",
   "name": "python",
   "nbconvert_exporter": "python",
   "pygments_lexer": "ipython3",
   "version": "3.10.18"
  }
 },
 "nbformat": 4,
 "nbformat_minor": 2
}
